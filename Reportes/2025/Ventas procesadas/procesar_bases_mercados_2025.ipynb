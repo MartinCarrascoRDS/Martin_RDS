{
 "cells": [
  {
   "cell_type": "markdown",
   "id": "a3bbe581",
   "metadata": {},
   "source": [
    "# NOTEBOOK PARA PROCESAR BASES DE DATOS DE VENTAS EN MERCADOS 2025"
   ]
  },
  {
   "cell_type": "code",
   "execution_count": 1,
   "id": "94d3149d",
   "metadata": {},
   "outputs": [],
   "source": [
    "import pandas as pd\n",
    "from pipeline.procesamiento.procesamiento_bases import procesar_para_powerBI"
   ]
  },
  {
   "cell_type": "markdown",
   "id": "a295ebd6",
   "metadata": {},
   "source": [
    "## ACCESORIOS"
   ]
  },
  {
   "cell_type": "code",
   "execution_count": 2,
   "id": "f4de36f0",
   "metadata": {},
   "outputs": [],
   "source": [
    "ruta_accesorios2025 = '/Users/martincarrasco/Desktop/Martín_Carrasco/Reportes/2025/Mercado de Accesorios/Ventas mercado de accesorios 2025 (hasta 10-08).csv'\n",
    "accesorios2025 = pd.read_csv(ruta_accesorios2025, sep=',', encoding='utf-8')\n",
    "accesorios2025 = procesar_para_powerBI(ruta_accesorios2025, año = 2025, fecha_ultima_venta='2025-08-10', mercado='Accesorios')"
   ]
  },
  {
   "cell_type": "markdown",
   "id": "d5cd92b4",
   "metadata": {},
   "source": [
    "## LUBRICANTES Y FLUIDOS"
   ]
  },
  {
   "cell_type": "code",
   "execution_count": 3,
   "id": "2d39d1a0",
   "metadata": {},
   "outputs": [],
   "source": [
    "ruta_lubricantes2025 = '/Users/martincarrasco/Desktop/Martín_Carrasco/Reportes/2025/Mercado de Lubricantes y Fluidos/Ventas mercado de lubricantes y fluidos 2025 (hasta 10-08).csv'\n",
    "lubricantes2025 = pd.read_csv(ruta_lubricantes2025, sep=',', encoding='utf-8')\n",
    "lubricantes2025 = procesar_para_powerBI(ruta_lubricantes2025, año = 2025, fecha_ultima_venta='2025-08-10', mercado='Lubricantes')"
   ]
  },
  {
   "cell_type": "markdown",
   "id": "02c83d21",
   "metadata": {},
   "source": [
    "## NEUMÁTICOS"
   ]
  },
  {
   "cell_type": "code",
   "execution_count": 4,
   "id": "6fc2090b",
   "metadata": {},
   "outputs": [],
   "source": [
    "ruta_neumaticos2025 = '/Users/martincarrasco/Desktop/Martín_Carrasco/Reportes/2025/Mercado de Neumáticos/Ventas mercado de neumáticos 2025 (hasta 10-08).csv'\n",
    "neumaticos2025 = pd.read_csv(ruta_neumaticos2025, sep=',', encoding='utf-8')\n",
    "neumaticos2025 = procesar_para_powerBI(ruta_neumaticos2025, año = 2025, fecha_ultima_venta='2025-08-10', mercado='Neumáticos')"
   ]
  },
  {
   "cell_type": "markdown",
   "id": "4c8d45cb",
   "metadata": {},
   "source": [
    "## REPUESTOS"
   ]
  },
  {
   "cell_type": "code",
   "execution_count": 5,
   "id": "66321a4a",
   "metadata": {},
   "outputs": [
    {
     "name": "stderr",
     "output_type": "stream",
     "text": [
      "/var/folders/lr/rkgxn4r50h712qndyykwjmfh0000gp/T/ipykernel_5834/4266927644.py:2: DtypeWarning: Columns (5,7) have mixed types. Specify dtype option on import or set low_memory=False.\n",
      "  repuestos2025 = pd.read_csv(ruta_repuestos2025, sep=',', encoding='utf-8')\n",
      "/Users/martincarrasco/Desktop/Martín_Carrasco/recursos_proyectos/pipeline/procesamiento/procesamiento_bases.py:256: DtypeWarning: Columns (5,7) have mixed types. Specify dtype option on import or set low_memory=False.\n",
      "  df = pd.read_csv(path_csv, skiprows = header_line, sep = sep)\n"
     ]
    }
   ],
   "source": [
    "ruta_repuestos2025 = '/Users/martincarrasco/Desktop/Martín_Carrasco/Reportes/2025/Mercado de Repuestos/Ventas mercado de repuestos 2025 (hasta 10-08).csv'\n",
    "repuestos2025 = pd.read_csv(ruta_repuestos2025, sep=',', encoding='utf-8')\n",
    "repuestos2025 = procesar_para_powerBI(ruta_repuestos2025, año = 2025, fecha_ultima_venta='2025-08-10', mercado='Repuestos')"
   ]
  },
  {
   "cell_type": "markdown",
   "id": "cb85d15c",
   "metadata": {},
   "source": [
    "## TOTAL DE VENTAS"
   ]
  },
  {
   "cell_type": "code",
   "execution_count": 6,
   "id": "66706c3c",
   "metadata": {},
   "outputs": [],
   "source": [
    "ventas_2025 = pd.concat([accesorios2025, lubricantes2025, neumaticos2025, repuestos2025], ignore_index=True)\n",
    "ventas_2025.to_csv('/Users/martincarrasco/Desktop/Martín_Carrasco/Reportes/2025/Ventas procesadas/ventas accesorios-lubricantes-neumaticos-repuestos 2025 (hasta 10-08).csv', index=False, encoding='utf-8')"
   ]
  }
 ],
 "metadata": {
  "kernelspec": {
   "display_name": "Python 3",
   "language": "python",
   "name": "python3"
  },
  "language_info": {
   "codemirror_mode": {
    "name": "ipython",
    "version": 3
   },
   "file_extension": ".py",
   "mimetype": "text/x-python",
   "name": "python",
   "nbconvert_exporter": "python",
   "pygments_lexer": "ipython3",
   "version": "3.10.13"
  }
 },
 "nbformat": 4,
 "nbformat_minor": 5
}
