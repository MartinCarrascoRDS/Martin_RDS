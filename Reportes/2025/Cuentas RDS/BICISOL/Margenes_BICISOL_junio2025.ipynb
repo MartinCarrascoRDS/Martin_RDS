{
 "cells": [
  {
   "cell_type": "markdown",
   "id": "e0dafb57",
   "metadata": {},
   "source": [
    "# CÁLCULO DE MÁRGENES PARA BICISOL"
   ]
  },
  {
   "cell_type": "code",
   "execution_count": 1,
   "id": "11a0e0f2",
   "metadata": {},
   "outputs": [],
   "source": [
    "import pandas as pd\n",
    "import numpy as np"
   ]
  },
  {
   "cell_type": "code",
   "execution_count": 2,
   "id": "eb11b9e7",
   "metadata": {},
   "outputs": [
    {
     "name": "stderr",
     "output_type": "stream",
     "text": [
      "/Users/martincarrasco/.pyenv/versions/rds-analisis-py310/lib/python3.10/site-packages/openpyxl/styles/stylesheet.py:237: UserWarning: Workbook contains no default style, apply openpyxl's default\n",
      "  warn(\"Workbook contains no default style, apply openpyxl's default\")\n"
     ]
    }
   ],
   "source": [
    "ventas = pd.read_excel('/Users/martincarrasco/Desktop/Martín_Carrasco/Reportes/2025/Cuentas RDS/Inversiones Del Sol LTDA (BICISOL)/VENTAS BICISOL JUNIO 2025.xlsx', skiprows = 5)\n",
    "costos = pd.read_excel('/Users/martincarrasco/Desktop/Martín_Carrasco/Reportes/2025/Cuentas RDS/Costos proveedores RDS al 01-07.xlsx')"
   ]
  },
  {
   "cell_type": "code",
   "execution_count": 4,
   "id": "fc125eaf",
   "metadata": {},
   "outputs": [
    {
     "data": {
      "text/plain": [
       "array(['Etiqueta lista para imprimir', 'En camino', 'Acuerdas la entrega',\n",
       "       'Procesando en la bodega', 'Entregado', 'En punto de retiro',\n",
       "       'Paquete de 2 productos',\n",
       "       'Listo para recolección. Está demorado 1 día y eso afectó tu reputación',\n",
       "       'Listo para recolección. Está demorado 4 días y eso afectó tu reputación',\n",
       "       'Venta concretada', 'Venta entregada'], dtype=object)"
      ]
     },
     "execution_count": 4,
     "metadata": {},
     "output_type": "execute_result"
    }
   ],
   "source": [
    "ventas['Estado'] = ventas['Estado'].str.strip()\n",
    "\n",
    "estados_parciales = [\n",
    "    \"Acuerdas la entrega\",\n",
    "    \"En camino\",\n",
    "    \"En punto de retiro\",\n",
    "    \"Entregado\",\n",
    "    \"Etiqueta lista para imprimir\",\n",
    "    \"Listo para recolección\",\n",
    "    \"Paquete de\",\n",
    "    \"Procesando en la bodega\",\n",
    "    \"Venta concretada\",\n",
    "    \"Venta entregada\"\n",
    "]\n",
    "\n",
    "mask = ventas['Estado'].apply(\n",
    "    lambda x: any(x.startswith(estado) for estado in estados_parciales)\n",
    ")\n",
    "\n",
    "ventas = ventas[mask]\n",
    "\n",
    "ventas['Estado'].unique()"
   ]
  },
  {
   "cell_type": "code",
   "execution_count": null,
   "id": "637805fa",
   "metadata": {},
   "outputs": [
    {
     "data": {
      "text/plain": [
       "24"
      ]
     },
     "execution_count": 7,
     "metadata": {},
     "output_type": "execute_result"
    }
   ],
   "source": [
    "paquete2 = ventas[ventas['Estado'] == 'Paquete de 2 productos'].shape[0]"
   ]
  },
  {
   "cell_type": "code",
   "execution_count": 8,
   "id": "43eec0cc",
   "metadata": {},
   "outputs": [],
   "source": [
    "cantidad_ventas = ventas.shape[0]"
   ]
  },
  {
   "cell_type": "code",
   "execution_count": null,
   "id": "e2907e73",
   "metadata": {},
   "outputs": [],
   "source": []
  }
 ],
 "metadata": {
  "kernelspec": {
   "display_name": "rds-analisis-py310",
   "language": "python",
   "name": "python3"
  },
  "language_info": {
   "codemirror_mode": {
    "name": "ipython",
    "version": 3
   },
   "file_extension": ".py",
   "mimetype": "text/x-python",
   "name": "python",
   "nbconvert_exporter": "python",
   "pygments_lexer": "ipython3",
   "version": "3.10.13"
  }
 },
 "nbformat": 4,
 "nbformat_minor": 5
}
