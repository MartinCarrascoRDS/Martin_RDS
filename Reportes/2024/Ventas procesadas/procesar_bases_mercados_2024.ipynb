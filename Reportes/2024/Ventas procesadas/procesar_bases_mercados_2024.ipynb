{
 "cells": [
  {
   "cell_type": "markdown",
   "id": "bc25444c",
   "metadata": {},
   "source": [
    "# NOTEBOOK PARA PROCESAR BASES DE DATOS DE VENTAS EN MERCADOS 2024"
   ]
  },
  {
   "cell_type": "markdown",
   "id": "0cef5e88",
   "metadata": {},
   "source": [
    "## ACCESORIOS"
   ]
  },
  {
   "cell_type": "code",
   "execution_count": 1,
   "id": "bf56f280",
   "metadata": {},
   "outputs": [],
   "source": [
    "import pandas as pd\n",
    "from pipeline.procesamiento.procesamiento_bases import procesar_para_powerBI"
   ]
  },
  {
   "cell_type": "code",
   "execution_count": 2,
   "id": "d7af670f",
   "metadata": {},
   "outputs": [
    {
     "name": "stderr",
     "output_type": "stream",
     "text": [
      "/var/folders/lr/rkgxn4r50h712qndyykwjmfh0000gp/T/ipykernel_55024/2844646955.py:2: DtypeWarning: Columns (5,7) have mixed types. Specify dtype option on import or set low_memory=False.\n",
      "  accesorios2024 = pd.read_csv(ruta_accesorios2024, sep=',', encoding='utf-8')\n",
      "/Users/martincarrasco/Desktop/Martín_Carrasco/recursos_proyectos/pipeline/procesamiento/procesamiento_bases.py:256: DtypeWarning: Columns (5,7) have mixed types. Specify dtype option on import or set low_memory=False.\n",
      "  df = pd.read_csv(path_csv, skiprows = header_line, sep = sep)\n"
     ]
    }
   ],
   "source": [
    "ruta_accesorios2024 = '/Users/martincarrasco/Desktop/Martín_Carrasco/Reportes/2024/Mercado de Accesorios/Ventas mercado de accesorios 2024 (con SKU) (1).csv'\n",
    "accesorios2024 = pd.read_csv(ruta_accesorios2024, sep=',', encoding='utf-8')\n",
    "accesorios2024 = procesar_para_powerBI(ruta_accesorios2024, año = 2024, fecha_ultima_venta = '2024-12-31', mercado = 'Accesorios')"
   ]
  },
  {
   "cell_type": "markdown",
   "id": "c4968c45",
   "metadata": {},
   "source": [
    "## LUBRICANTES Y FLUIDOS"
   ]
  },
  {
   "cell_type": "code",
   "execution_count": 3,
   "id": "c00eff37",
   "metadata": {},
   "outputs": [],
   "source": [
    "ruta_lubricantes2024 = '/Users/martincarrasco/Desktop/Martín_Carrasco/Reportes/2024/Mercado de Lubricantes y Fluidos/Ventas mercado de lubricantes y fluidos 2024 (con SKU) (1).csv'\n",
    "lubricantes2024 = pd.read_csv(ruta_lubricantes2024, sep=',', encoding='utf-8')\n",
    "lubricantes2024 = procesar_para_powerBI(ruta_lubricantes2024, año = 2024, fecha_ultima_venta = '2024-12-31', mercado = 'Lubricantes')"
   ]
  },
  {
   "cell_type": "markdown",
   "id": "daaa0e03",
   "metadata": {},
   "source": [
    "## NEUMÁTICOS"
   ]
  },
  {
   "cell_type": "code",
   "execution_count": 4,
   "id": "d32f2bbd",
   "metadata": {},
   "outputs": [],
   "source": [
    "ruta_neumaticos2024 = '/Users/martincarrasco/Desktop/Martín_Carrasco/Reportes/2024/Mercado de Neumáticos/Ventas mercado de neumáticos 2024 (con SKU) (1).csv'\n",
    "neumaticos2024 = pd.read_csv(ruta_neumaticos2024, sep=',', encoding='utf-8')\n",
    "neumaticos2024 = procesar_para_powerBI(ruta_neumaticos2024, año = 2024, fecha_ultima_venta = '2024-12-31', mercado = 'Neumáticos')"
   ]
  },
  {
   "cell_type": "markdown",
   "id": "7a945e33",
   "metadata": {},
   "source": [
    "## REPUESTOS"
   ]
  },
  {
   "cell_type": "code",
   "execution_count": 5,
   "id": "3bdabf68",
   "metadata": {},
   "outputs": [
    {
     "name": "stderr",
     "output_type": "stream",
     "text": [
      "/var/folders/lr/rkgxn4r50h712qndyykwjmfh0000gp/T/ipykernel_55024/2080185065.py:2: DtypeWarning: Columns (5,7) have mixed types. Specify dtype option on import or set low_memory=False.\n",
      "  repuestos2024 = pd.read_csv(ruta_repuestos2024, sep=',', encoding='utf-8')\n",
      "/Users/martincarrasco/Desktop/Martín_Carrasco/recursos_proyectos/pipeline/procesamiento/procesamiento_bases.py:256: DtypeWarning: Columns (5,7) have mixed types. Specify dtype option on import or set low_memory=False.\n",
      "  df = pd.read_csv(path_csv, skiprows = header_line, sep = sep)\n"
     ]
    }
   ],
   "source": [
    "ruta_repuestos2024 = '/Users/martincarrasco/Desktop/Martín_Carrasco/Reportes/2024/Mercado de Repuestos/Ventas mercado de repuestos 2024 (con SKU) (1).csv'\n",
    "repuestos2024 = pd.read_csv(ruta_repuestos2024, sep=',', encoding='utf-8')\n",
    "repuestos2024 = procesar_para_powerBI(ruta_repuestos2024, año = 2024, fecha_ultima_venta = '2024-12-31', mercado = 'Repuestos')"
   ]
  },
  {
   "cell_type": "markdown",
   "id": "a4c099f3",
   "metadata": {},
   "source": [
    "## TOTAL DE VENTAS"
   ]
  },
  {
   "cell_type": "code",
   "execution_count": 6,
   "id": "bb0d9b6e",
   "metadata": {},
   "outputs": [],
   "source": [
    "ventas_2024 = pd.concat([accesorios2024, lubricantes2024, neumaticos2024, repuestos2024], ignore_index=True)\n",
    "ventas_2024.to_csv('/Users/martincarrasco/Desktop/Martín_Carrasco/Reportes/2024/Ventas procesadas/Ventas accesorios-lubricantes-neumaticos-repuestos 2024 (con SKU).csv', index=False, encoding='utf-8')"
   ]
  },
  {
   "cell_type": "code",
   "execution_count": 7,
   "id": "967c7c67",
   "metadata": {},
   "outputs": [
    {
     "data": {
      "text/plain": [
       "np.int64(115325742457)"
      ]
     },
     "execution_count": 7,
     "metadata": {},
     "output_type": "execute_result"
    }
   ],
   "source": [
    "ventas_2024['Ventas'].sum()"
   ]
  },
  {
   "cell_type": "code",
   "execution_count": 8,
   "id": "4da20e1e",
   "metadata": {},
   "outputs": [
    {
     "name": "stdout",
     "output_type": "stream",
     "text": [
      "86305003463\n"
     ]
    }
   ],
   "source": [
    "print(repuestos2024['Ventas'].sum())"
   ]
  }
 ],
 "metadata": {
  "kernelspec": {
   "display_name": "rds-analisis-py310",
   "language": "python",
   "name": "python3"
  },
  "language_info": {
   "codemirror_mode": {
    "name": "ipython",
    "version": 3
   },
   "file_extension": ".py",
   "mimetype": "text/x-python",
   "name": "python",
   "nbconvert_exporter": "python",
   "pygments_lexer": "ipython3",
   "version": "3.10.13"
  }
 },
 "nbformat": 4,
 "nbformat_minor": 5
}
